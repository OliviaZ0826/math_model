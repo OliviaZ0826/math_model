{
 "cells": [
  {
   "cell_type": "code",
   "execution_count": 40,
   "metadata": {},
   "outputs": [],
   "source": [
    "import random as rand\n",
    "import numpy\n",
    "\n",
    "# method to get three random dice\n",
    "def get_dice():\n",
    "    roll = []\n",
    "    for i in range(3):\n",
    "        roll.append(rand.randint(1, 6))\n",
    "    return roll\n",
    "def check_3(roll):\n",
    "    for num in roll:\n",
    "        if(num == 3):\n",
    "            return True\n",
    "    return False\n",
    "\n",
    "# strategy A with parameter x, y, a, b\n",
    "def strategy1(lo, hi,lower,upper):\n",
    "    sum_a = 0\n",
    "    for i in range(10):\n",
    "        roll_a = get_dice()\n",
    "        if(sum_a < lo):\n",
    "            while(sum(roll_a) <= upper):\n",
    "                roll_a = get_dice()\n",
    "                if(check_3(roll_a)):\n",
    "                    sum_a = sum_a/2\n",
    "                    break\n",
    "            if(check_3(roll_a)):\n",
    "                sum_a = sum_a\n",
    "            else:\n",
    "                sum_a = sum_a + sum(roll_a)\n",
    "        elif(sum_a > hi):\n",
    "            while(sum(roll_a) >= lower):\n",
    "                roll_a = get_dice()\n",
    "                if(check_3(roll_a)):\n",
    "                    sum_a = sum_a/2\n",
    "                    break\n",
    "            if(check_3(roll_a)):\n",
    "                sum_a = sum_a\n",
    "            else:\n",
    "                sum_a = sum_a + sum(roll_a)\n",
    "        else:\n",
    "            sum_a = sum_a + sum(roll_a)\n",
    "        ##print(sum_a)\n",
    "    return abs(sum_a-50)\n",
    "        \n",
    "\n"
   ]
  },
  {
   "cell_type": "code",
   "execution_count": 62,
   "metadata": {},
   "outputs": [],
   "source": [
    "# strategy B with parameter B\n",
    "def strategy_3(bound):\n",
    "    score = 0\n",
    "    for i in range(10):\n",
    "        dice = get_dice()\n",
    "        curr_roll = 0\n",
    "        for idx in range(3):\n",
    "            curr_roll += dice[idx]\n",
    "        if score > bound:\n",
    "            temp1 = score + curr_roll\n",
    "            temp2 = score - 10\n",
    "            if abs(temp1 - 50) >= abs(temp2 - 50):\n",
    "                continue\n",
    "        score += curr_roll\n",
    "    return abs(score-50)\n",
    "\n",
    "def play_game3(para_A, para_B, n):\n",
    "    win_A = 0\n",
    "    win_B = 0\n",
    "    for i in range(n):\n",
    "        player_A = strategy_3(para_A)\n",
    "        player_B = strategy_3(para_B)\n",
    "        if (player_A < player_B):\n",
    "            win_A+=1\n",
    "        elif (player_A > player_B):\n",
    "            win_B+=1\n",
    "        else:\n",
    "            win_A += 1\n",
    "            win_B += 1\n",
    "    return round(win_A /n,3)\n"
   ]
  },
  {
   "cell_type": "code",
   "execution_count": 77,
   "metadata": {},
   "outputs": [],
   "source": [
    "# Simulation with different strategy 5000 times\n",
    "def get_range(lower_a, upper_a,lower_b,upper_b,pick_a,pick_b):\n",
    "    win_a = 0\n",
    "    if(pick_a == 1 and pick_b == 1):\n",
    "        for i in range(5000):\n",
    "            ans_a = strategy1(10,65,lower_a,upper_a)\n",
    "            ans_b = strategy1(10,65,lower_b,upper_b)\n",
    "            if(ans_a <= ans_b):\n",
    "                win_a = win_a + 1\n",
    "    if(pick_a == 1 and pick_b == 2):\n",
    "        for i in range(5000):\n",
    "            ans_a = strategy1(10,65,lower_a,upper_a)\n",
    "            ans_b = strategy1(lower_b,upper_b,10,5)\n",
    "            if(ans_a <= ans_b):\n",
    "                win_a = win_a + 1\n",
    "    if(pick_a == 1 and pick_b == 3):\n",
    "        for i in range(5000):\n",
    "            ans_a = strategy1(10,65,lower_a,upper_a)\n",
    "            ans_b = strategy_3(lower_b)\n",
    "            if(ans_a <= ans_b):\n",
    "                win_a = win_a + 1\n",
    "    ##\n",
    "    if(pick_a == 2 and pick_b == 1):\n",
    "        for i in range(5000):\n",
    "            ans_a = strategy1(lower_a,upper_a,10,5)\n",
    "            ans_b = strategy1(10,65,lower_b,upper_b)\n",
    "            if(ans_a <= ans_b):\n",
    "                win_a = win_a + 1\n",
    "    if(pick_a == 2 and pick_b == 2):\n",
    "        for i in range(5000):\n",
    "            ans_a = strategy1(lower_a,upper_a,10,5)\n",
    "            ans_b = strategy1(lower_b,upper_b,10,5)\n",
    "            if(ans_a <= ans_b):\n",
    "                win_a = win_a + 1\n",
    "    if(pick_a == 2 and pick_b == 3):\n",
    "        for i in range(5000):\n",
    "            ans_a = strategy1(lower_a,upper_a,10,5)\n",
    "            ans_b = strategy_3(lower_b)\n",
    "            if(ans_a <= ans_b):\n",
    "                win_a = win_a + 1\n",
    "    ##\n",
    "    if(pick_a == 3 and pick_b == 1):\n",
    "        for i in range(5000):\n",
    "            ans_a = strategy_3(lower_a)\n",
    "            ans_b = strategy1(10,65,lower_b,upper_b)\n",
    "            if(ans_a <= ans_b):\n",
    "                win_a = win_a + 1\n",
    "    if(pick_a == 3 and pick_b == 2):\n",
    "        for i in range(5000):\n",
    "            ans_a = strategy_3(lower_a)\n",
    "            ans_b = strategy1(lower_b,upper_b,10,5)\n",
    "            if(ans_a <= ans_b):\n",
    "                win_a = win_a + 1\n",
    "    if(pick_a == 3 and pick_b == 3):\n",
    "        for i in range(5000):\n",
    "            ans_a = strategy_3(lower_a)\n",
    "            ans_b = strategy_3(lower_b)\n",
    "            if(ans_a <= ans_b):\n",
    "                win_a = win_a + 1\n",
    "    \n",
    "    return round(win_a / 5000,3)\n",
    "\n",
    "\n",
    "\n",
    "\n",
    "\n",
    "    \n"
   ]
  },
  {
   "cell_type": "code",
   "execution_count": 70,
   "metadata": {},
   "outputs": [],
   "source": [
    "# get result data for tables\n",
    "\n",
    "def table_data(input_a,input_b):\n",
    "    ans = [[0 for _ in range(len(input_a))] for _ in range(len(input_a))]\n",
    "    for j in range(len(input_a)):\n",
    "        lower_a = input_a[j][0]\n",
    "        upper_a = input_a[j][1]\n",
    "        pick_a = input_a[j][2]\n",
    "        for k in range(len(input_b)):\n",
    "            lower_b = input_b[k][0]\n",
    "            upper_b = input_b[k][1]\n",
    "            pick_b = input_b[k][2]\n",
    "            range_a = [0]*10\n",
    "            for i in range(10):\n",
    "                range_a[i] = get_range(lower_a, upper_a,lower_b,upper_b,pick_a,pick_b)\n",
    "            range_a.sort()\n",
    "            ans[j][k] = (range_a[0],range_a[len(range_a)-1])\n",
    "    return ans"
   ]
  },
  {
   "cell_type": "code",
   "execution_count": 82,
   "metadata": {},
   "outputs": [
    {
     "name": "stdout",
     "output_type": "stream",
     "text": [
      "[(0.538, 0.558), (0.541, 0.557), (0.536, 0.561), (0.583, 0.596), (0.887, 0.904), (0.997, 0.999)]\n",
      "[(0.536, 0.568), (0.549, 0.564), (0.543, 0.559), (0.577, 0.604), (0.887, 0.903), (0.998, 0.999)]\n",
      "[(0.549, 0.561), (0.543, 0.554), (0.544, 0.564), (0.58, 0.595), (0.891, 0.903), (0.998, 1.0)]\n",
      "[(0.499, 0.513), (0.503, 0.512), (0.494, 0.511), (0.532, 0.558), (0.837, 0.854), (0.978, 0.984)]\n",
      "[(0.152, 0.169), (0.152, 0.166), (0.154, 0.167), (0.205, 0.222), (0.53, 0.545), (0.846, 0.863)]\n",
      "[(0.003, 0.006), (0.003, 0.006), (0.004, 0.007), (0.031, 0.037), (0.186, 0.208), (0.537, 0.548)]\n"
     ]
    }
   ],
   "source": [
    "\n",
    "input_a = [[10,15,1],[15,5,1],[10,10,1],[10,65,2],[15,70,2],[15,65,2]]\n",
    "input_b = [[10,15,1],[15,5,1],[10,10,1],[10,65,2],[15,70,2],[15,65,2]]\n",
    "\n",
    "input_Ba = [[35,3,3],[40,3,3],[45,3,3],[50,3,3],[55,3,3],[60,3,3]]\n",
    "input_Bb = [[35,3,3],[40,3,3],[45,3,3],[50,3,3],[55,3,3],[60,3,3]]\n",
    "##input_Bb = [[35,3,3],[40,3,3],[45,3,3],[50,3,3],[55,3,3]]\n",
    "\n",
    "input_ca = [[10,10,1],[10,65,2],[45,3,3]]\n",
    "input_cb = [[10,10,1],[10,65,2],[45,3,3]]\n",
    "ans_B = table_data(input_Ba,input_Bb)\n",
    "for i in range(len(input_Ba)):\n",
    "    print(ans_B[i])"
   ]
  },
  {
   "cell_type": "code",
   "execution_count": 4,
   "metadata": {},
   "outputs": [
    {
     "name": "stdout",
     "output_type": "stream",
     "text": [
      "[(0.505, 0.535), (0.675, 0.728), (0.601, 0.649), (0.599, 0.629), (0.725, 0.752), (0.886, 0.916), (0.895, 0.932)]\n",
      "[(0.317, 0.364), (0.509, 0.547), (0.42, 0.482), (0.405, 0.456), (0.542, 0.604), (0.696, 0.734), (0.71, 0.737)]\n",
      "[(0.362, 0.418), (0.562, 0.605), (0.484, 0.526), (0.48, 0.52), (0.604, 0.675), (0.767, 0.815), (0.793, 0.821)]\n",
      "[(0.371, 0.423), (0.559, 0.611), (0.48, 0.542), (0.481, 0.526), (0.622, 0.647), (0.778, 0.812), (0.796, 0.835)]\n",
      "[(0.262, 0.294), (0.468, 0.498), (0.365, 0.412), (0.36, 0.403), (0.515, 0.551), (0.649, 0.675), (0.649, 0.7)]\n",
      "[(0.093, 0.113), (0.283, 0.314), (0.203, 0.236), (0.2, 0.236), (0.325, 0.38), (0.48, 0.55), (0.519, 0.544)]\n",
      "[(0.083, 0.106), (0.247, 0.313), (0.187, 0.227), (0.181, 0.222), (0.299, 0.352), (0.45, 0.493), (0.488, 0.537)]\n"
     ]
    }
   ],
   "source": [
    "for i in range(7):\n",
    "    print(ans[i])\n",
    "#5 10\n",
    "#10 5"
   ]
  },
  {
   "cell_type": "code",
   "execution_count": 10,
   "metadata": {},
   "outputs": [
    {
     "name": "stdout",
     "output_type": "stream",
     "text": [
      "[(0.488, 0.534), (0.525, 0.557), (0.455, 0.504), (0.491, 0.529), (0.517, 0.566), (0.484, 0.53), (0.511, 0.541)]\n",
      "[(0.448, 0.497), (0.476, 0.523), (0.422, 0.461), (0.459, 0.502), (0.474, 0.528), (0.452, 0.499), (0.462, 0.517)]\n",
      "[(0.5, 0.566), (0.545, 0.588), (0.483, 0.536), (0.501, 0.561), (0.549, 0.591), (0.517, 0.553), (0.538, 0.577)]\n",
      "[(0.487, 0.518), (0.518, 0.59), (0.46, 0.502), (0.468, 0.53), (0.521, 0.577), (0.476, 0.549), (0.507, 0.543)]\n",
      "[(0.454, 0.508), (0.484, 0.542), (0.443, 0.456), (0.442, 0.506), (0.474, 0.556), (0.447, 0.503), (0.463, 0.51)]\n",
      "[(0.483, 0.528), (0.521, 0.589), (0.471, 0.502), (0.504, 0.533), (0.532, 0.562), (0.477, 0.539), (0.506, 0.562)]\n",
      "[(0.463, 0.505), (0.497, 0.543), (0.438, 0.487), (0.463, 0.497), (0.496, 0.565), (0.462, 0.504), (0.482, 0.528)]\n"
     ]
    }
   ],
   "source": [
    "for i in range(7):\n",
    "    print(ans_2[i])\n",
    "## 5 70 5 75\n",
    "## 10 70 15 70"
   ]
  },
  {
   "cell_type": "code",
   "execution_count": null,
   "metadata": {},
   "outputs": [],
   "source": [
    "\n"
   ]
  },
  {
   "cell_type": "code",
   "execution_count": null,
   "metadata": {},
   "outputs": [],
   "source": []
  }
 ],
 "metadata": {
  "kernelspec": {
   "display_name": "Python 3",
   "language": "python",
   "name": "python3"
  },
  "language_info": {
   "codemirror_mode": {
    "name": "ipython",
    "version": 3
   },
   "file_extension": ".py",
   "mimetype": "text/x-python",
   "name": "python",
   "nbconvert_exporter": "python",
   "pygments_lexer": "ipython3",
   "version": "3.8.2"
  },
  "orig_nbformat": 4
 },
 "nbformat": 4,
 "nbformat_minor": 2
}
